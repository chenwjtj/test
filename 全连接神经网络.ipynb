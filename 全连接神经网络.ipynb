{
  "nbformat": 4,
  "nbformat_minor": 5,
  "metadata": {
    "kernelspec": {
      "display_name": "Python 3",
      "language": "python",
      "name": "python3"
    },
    "language_info": {
      "codemirror_mode": {
        "name": "ipython",
        "version": 3
      },
      "file_extension": ".py",
      "mimetype": "text/x-python",
      "name": "python",
      "nbconvert_exporter": "python",
      "pygments_lexer": "ipython3",
      "version": "3.8.8"
    },
    "colab": {
      "name": "全连接神经网络.ipynb",
      "provenance": [],
      "collapsed_sections": [],
      "include_colab_link": true
    },
    "accelerator": "GPU"
  },
  "cells": [
    {
      "cell_type": "markdown",
      "metadata": {
        "id": "view-in-github",
        "colab_type": "text"
      },
      "source": [
        "<a href=\"https://colab.research.google.com/github/chenwjtj/test/blob/master/%E5%85%A8%E8%BF%9E%E6%8E%A5%E7%A5%9E%E7%BB%8F%E7%BD%91%E7%BB%9C.ipynb\" target=\"_parent\"><img src=\"https://colab.research.google.com/assets/colab-badge.svg\" alt=\"Open In Colab\"/></a>"
      ]
    },
    {
      "cell_type": "code",
      "metadata": {
        "colab": {
          "base_uri": "https://localhost:8080/"
        },
        "id": "7e598bcd",
        "outputId": "60477478-bde0-4955-c28d-8272a0286a4c"
      },
      "source": [
        "%tensorflow_version"
      ],
      "id": "7e598bcd",
      "execution_count": 1,
      "outputs": [
        {
          "output_type": "stream",
          "text": [
            "Currently selected TF version: 2.x\n",
            "Available versions:\n",
            "* 1.x\n",
            "* 2.x\n"
          ],
          "name": "stdout"
        }
      ]
    },
    {
      "cell_type": "code",
      "metadata": {
        "id": "b9d42c5d"
      },
      "source": [
        "%tensorflow_version 2.x"
      ],
      "id": "b9d42c5d",
      "execution_count": 2,
      "outputs": []
    },
    {
      "cell_type": "code",
      "metadata": {
        "id": "773d749e"
      },
      "source": [
        "%matplotlib inline\n",
        "import numpy as np\n",
        "import matplotlib.pyplot as plt\n",
        "import tensorflow as tf\n",
        "from tensorflow.keras.datasets import mnist"
      ],
      "id": "773d749e",
      "execution_count": 3,
      "outputs": []
    },
    {
      "cell_type": "code",
      "metadata": {
        "colab": {
          "base_uri": "https://localhost:8080/"
        },
        "id": "FR00ZTTXDv1a",
        "outputId": "238d0980-8f76-42de-fb1d-31a3db419ddf"
      },
      "source": [
        "(x_train,y_train),(x_test,y_test)=mnist.load_data()"
      ],
      "id": "FR00ZTTXDv1a",
      "execution_count": 4,
      "outputs": [
        {
          "output_type": "stream",
          "text": [
            "Downloading data from https://storage.googleapis.com/tensorflow/tf-keras-datasets/mnist.npz\n",
            "11493376/11490434 [==============================] - 0s 0us/step\n"
          ],
          "name": "stdout"
        }
      ]
    },
    {
      "cell_type": "code",
      "metadata": {
        "colab": {
          "base_uri": "https://localhost:8080/",
          "height": 283
        },
        "id": "_DVI97e_EYKB",
        "outputId": "bf17f943-1381-4c60-acc8-30e6acbe3e44"
      },
      "source": [
        "plt.imshow(x_train[8888],cmap='Greys')"
      ],
      "id": "_DVI97e_EYKB",
      "execution_count": 5,
      "outputs": [
        {
          "output_type": "execute_result",
          "data": {
            "text/plain": [
              "<matplotlib.image.AxesImage at 0x7f6870465a50>"
            ]
          },
          "metadata": {
            "tags": []
          },
          "execution_count": 5
        },
        {
          "output_type": "display_data",
          "data": {
            "image/png": "[encoded data removed]",
            "text/plain": [
              "<Figure size 432x288 with 1 Axes>"
            ]
          },
          "metadata": {
            "tags": [],
            "needs_background": "light"
          }
        }
      ]
    },
    {
      "cell_type": "code",
      "metadata": {
        "colab": {
          "base_uri": "https://localhost:8080/"
        },
        "id": "r_b9tnI_FSvk",
        "outputId": "70d8319c-f8a4-45d5-f8c5-6df26325f4ae"
      },
      "source": [
        "print(y_train[8888])"
      ],
      "id": "r_b9tnI_FSvk",
      "execution_count": 6,
      "outputs": [
        {
          "output_type": "stream",
          "text": [
            "3\n"
          ],
          "name": "stdout"
        }
      ]
    },
    {
      "cell_type": "code",
      "metadata": {
        "id": "Wu6ziW-uOyIN"
      },
      "source": [
        "x_train=x_train/255"
      ],
      "id": "Wu6ziW-uOyIN",
      "execution_count": 7,
      "outputs": []
    },
    {
      "cell_type": "code",
      "metadata": {
        "id": "GmMwQxGzROZb"
      },
      "source": [
        "x_test=x_test/255"
      ],
      "id": "GmMwQxGzROZb",
      "execution_count": 8,
      "outputs": []
    },
    {
      "cell_type": "code",
      "metadata": {
        "id": "s-D4XlypRgl_"
      },
      "source": [
        "x_train=x_train.reshape(len(x_train),28*28)\n",
        "x_test=x_test.reshape(len(x_test),28*28)"
      ],
      "id": "s-D4XlypRgl_",
      "execution_count": 9,
      "outputs": []
    },
    {
      "cell_type": "code",
      "metadata": {
        "colab": {
          "base_uri": "https://localhost:8080/"
        },
        "id": "Z1_yMCY7RwrC",
        "outputId": "47c606a9-33e7-4d19-deb0-f8fa4e5a6440"
      },
      "source": [
        "x_test.shape"
      ],
      "id": "Z1_yMCY7RwrC",
      "execution_count": 10,
      "outputs": [
        {
          "output_type": "execute_result",
          "data": {
            "text/plain": [
              "(10000, 784)"
            ]
          },
          "metadata": {
            "tags": []
          },
          "execution_count": 10
        }
      ]
    },
    {
      "cell_type": "code",
      "metadata": {
        "id": "qRNSJQvyRy_j"
      },
      "source": [
        "from tensorflow.keras.utils import to_categorical"
      ],
      "id": "qRNSJQvyRy_j",
      "execution_count": 11,
      "outputs": []
    },
    {
      "cell_type": "code",
      "metadata": {
        "id": "JBZdJGU_S3mW"
      },
      "source": [
        "y_train=to_categorical(y_train,10)\n",
        "y_test=to_categorical(y_test,10)"
      ],
      "id": "JBZdJGU_S3mW",
      "execution_count": 12,
      "outputs": []
    },
    {
      "cell_type": "code",
      "metadata": {
        "colab": {
          "base_uri": "https://localhost:8080/"
        },
        "id": "6ekwahr0S-2O",
        "outputId": "f72d6a0f-b660-4304-f79f-5348c38b609e"
      },
      "source": [
        "y_train[8888]"
      ],
      "id": "6ekwahr0S-2O",
      "execution_count": 13,
      "outputs": [
        {
          "output_type": "execute_result",
          "data": {
            "text/plain": [
              "array([0., 0., 0., 1., 0., 0., 0., 0., 0., 0.], dtype=float32)"
            ]
          },
          "metadata": {
            "tags": []
          },
          "execution_count": 13
        }
      ]
    },
    {
      "cell_type": "code",
      "metadata": {
        "id": "deZsGGDHTElu"
      },
      "source": [
        "from tensorflow.keras.models import Sequential\n",
        "from tensorflow.keras.layers import Dense\n",
        "from tensorflow.keras.optimizers import SGD"
      ],
      "id": "deZsGGDHTElu",
      "execution_count": 14,
      "outputs": []
    },
    {
      "cell_type": "code",
      "metadata": {
        "id": "qSgl1wblWWgz"
      },
      "source": [
        "model=Sequential()\n"
      ],
      "id": "qSgl1wblWWgz",
      "execution_count": 15,
      "outputs": []
    },
    {
      "cell_type": "code",
      "metadata": {
        "id": "fVHtZ5FGW0AP"
      },
      "source": [
        "model.add(Dense(87,input_dim=784,activation='relu'))\n",
        "model.add(Dense(87,activation='relu'))\n"
      ],
      "id": "fVHtZ5FGW0AP",
      "execution_count": 16,
      "outputs": []
    },
    {
      "cell_type": "code",
      "metadata": {
        "id": "TI-rIlEqXWT9"
      },
      "source": [
        "model.add(Dense(10,activation='softmax'))"
      ],
      "id": "TI-rIlEqXWT9",
      "execution_count": 17,
      "outputs": []
    },
    {
      "cell_type": "code",
      "metadata": {
        "id": "-1Ndl75JXtn0"
      },
      "source": [
        "model.compile(loss='mse',optimizer=SGD(learning_rate=0.087),metrics=['accuracy'])"
      ],
      "id": "-1Ndl75JXtn0",
      "execution_count": 18,
      "outputs": []
    },
    {
      "cell_type": "code",
      "metadata": {
        "colab": {
          "base_uri": "https://localhost:8080/"
        },
        "id": "p4TUhz-laMj8",
        "outputId": "65c47194-4194-4cd1-a0fc-1303ea0af19f"
      },
      "source": [
        "model.summary()"
      ],
      "id": "p4TUhz-laMj8",
      "execution_count": 19,
      "outputs": [
        {
          "output_type": "stream",
          "text": [
            "Model: \"sequential\"\n",
            "_________________________________________________________________\n",
            "Layer (type)                 Output Shape              Param #   \n",
            "=================================================================\n",
            "dense (Dense)                (None, 87)                68295     \n",
            "_________________________________________________________________\n",
            "dense_1 (Dense)              (None, 87)                7656      \n",
            "_________________________________________________________________\n",
            "dense_2 (Dense)              (None, 10)                880       \n",
            "=================================================================\n",
            "Total params: 76,831\n",
            "Trainable params: 76,831\n",
            "Non-trainable params: 0\n",
            "_________________________________________________________________\n"
          ],
          "name": "stdout"
        }
      ]
    },
    {
      "cell_type": "code",
      "metadata": {
        "colab": {
          "base_uri": "https://localhost:8080/"
        },
        "id": "lNdiT3mlashU",
        "outputId": "9c6c6d4d-d9eb-4d7b-cf9b-d47153fed61c"
      },
      "source": [
        "model.fit(x_train,y_train,batch_size=100,epochs=20)"
      ],
      "id": "lNdiT3mlashU",
      "execution_count": 20,
      "outputs": [
        {
          "output_type": "stream",
          "text": [
            "Epoch 1/20\n",
            "600/600 [==============================] - 4s 2ms/step - loss: 0.0830 - accuracy: 0.3455\n",
            "Epoch 2/20\n",
            "600/600 [==============================] - 1s 2ms/step - loss: 0.0553 - accuracy: 0.6596\n",
            "Epoch 3/20\n",
            "600/600 [==============================] - 1s 2ms/step - loss: 0.0333 - accuracy: 0.8057\n",
            "Epoch 4/20\n",
            "600/600 [==============================] - 1s 2ms/step - loss: 0.0234 - accuracy: 0.8673\n",
            "Epoch 5/20\n",
            "600/600 [==============================] - 1s 2ms/step - loss: 0.0194 - accuracy: 0.8838\n",
            "Epoch 6/20\n",
            "600/600 [==============================] - 1s 2ms/step - loss: 0.0173 - accuracy: 0.8935\n",
            "Epoch 7/20\n",
            "600/600 [==============================] - 1s 2ms/step - loss: 0.0161 - accuracy: 0.8996\n",
            "Epoch 8/20\n",
            "600/600 [==============================] - 1s 2ms/step - loss: 0.0152 - accuracy: 0.9046\n",
            "Epoch 9/20\n",
            "600/600 [==============================] - 1s 2ms/step - loss: 0.0145 - accuracy: 0.9083\n",
            "Epoch 10/20\n",
            "600/600 [==============================] - 1s 2ms/step - loss: 0.0139 - accuracy: 0.9114\n",
            "Epoch 11/20\n",
            "600/600 [==============================] - 1s 2ms/step - loss: 0.0135 - accuracy: 0.9144\n",
            "Epoch 12/20\n",
            "600/600 [==============================] - 1s 2ms/step - loss: 0.0131 - accuracy: 0.9165\n",
            "Epoch 13/20\n",
            "600/600 [==============================] - 1s 2ms/step - loss: 0.0127 - accuracy: 0.9186\n",
            "Epoch 14/20\n",
            "600/600 [==============================] - 1s 2ms/step - loss: 0.0124 - accuracy: 0.9209\n",
            "Epoch 15/20\n",
            "600/600 [==============================] - 1s 2ms/step - loss: 0.0121 - accuracy: 0.9226\n",
            "Epoch 16/20\n",
            "600/600 [==============================] - 1s 2ms/step - loss: 0.0118 - accuracy: 0.9244\n",
            "Epoch 17/20\n",
            "600/600 [==============================] - 1s 2ms/step - loss: 0.0116 - accuracy: 0.9266\n",
            "Epoch 18/20\n",
            "600/600 [==============================] - 1s 2ms/step - loss: 0.0113 - accuracy: 0.9280\n",
            "Epoch 19/20\n",
            "600/600 [==============================] - 1s 2ms/step - loss: 0.0111 - accuracy: 0.9295\n",
            "Epoch 20/20\n",
            "600/600 [==============================] - 1s 2ms/step - loss: 0.0109 - accuracy: 0.9312\n"
          ],
          "name": "stdout"
        },
        {
          "output_type": "execute_result",
          "data": {
            "text/plain": [
              "<tensorflow.python.keras.callbacks.History at 0x7f686066a090>"
            ]
          },
          "metadata": {
            "tags": []
          },
          "execution_count": 20
        }
      ]
    },
    {
      "cell_type": "code",
      "metadata": {
        "colab": {
          "base_uri": "https://localhost:8080/"
        },
        "id": "5nPK_O9lwfp8",
        "outputId": "811d307e-8311-41bb-fc97-10d848dddfdf"
      },
      "source": [
        "result=model.predict_classes(x_test)"
      ],
      "id": "5nPK_O9lwfp8",
      "execution_count": 21,
      "outputs": [
        {
          "output_type": "stream",
          "text": [
            "/usr/local/lib/python3.7/dist-packages/tensorflow/python/keras/engine/sequential.py:455: UserWarning: `model.predict_classes()` is deprecated and will be removed after 2021-01-01. Please use instead:* `np.argmax(model.predict(x), axis=-1)`,   if your model does multi-class classification   (e.g. if it uses a `softmax` last-layer activation).* `(model.predict(x) > 0.5).astype(\"int32\")`,   if your model does binary classification   (e.g. if it uses a `sigmoid` last-layer activation).\n",
            "  warnings.warn('`model.predict_classes()` is deprecated and '\n"
          ],
          "name": "stderr"
        }
      ]
    },
    {
      "cell_type": "code",
      "metadata": {
        "id": "Z349wFZlwjvR"
      },
      "source": [
        "def show_pre(n):\n",
        "  print('神经网络第{}张图是：'.format(n),result[n])\n",
        "  plt.imshow(x_test[n].reshape(28,28),cmap='Greys')"
      ],
      "id": "Z349wFZlwjvR",
      "execution_count": 22,
      "outputs": []
    },
    {
      "cell_type": "code",
      "metadata": {
        "colab": {
          "base_uri": "https://localhost:8080/",
          "height": 283
        },
        "id": "9i7vgsDcy_KG",
        "outputId": "64cdcc76-7dcf-4152-e8bb-bc4c8c407d4e"
      },
      "source": [
        "show_pre(9989)"
      ],
      "id": "9i7vgsDcy_KG",
      "execution_count": 23,
      "outputs": [
        {
          "output_type": "stream",
          "text": [
            "神经网络第9989张图是： 6\n"
          ],
          "name": "stdout"
        },
        {
          "output_type": "display_data",
          "data": {
            "image/png": "[encoded data removed]",
            "text/plain": [
              "<Figure size 432x288 with 1 Axes>"
            ]
          },
          "metadata": {
            "tags": [],
            "needs_background": "light"
          }
        }
      ]
    },
    {
      "cell_type": "code",
      "metadata": {
        "id": "lR-OBjgx0hXU"
      },
      "source": [
        ""
      ],
      "id": "lR-OBjgx0hXU",
      "execution_count": 23,
      "outputs": []
    }
  ]
}